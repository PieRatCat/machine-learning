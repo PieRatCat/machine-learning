{
 "cells": [
  {
   "cell_type": "markdown",
   "metadata": {},
   "source": [
    "1. Kalle delar upp sin data i ”Träning”, ”Validering” och ”Test”, vad används respektive del för?\n",
    "\n",
    "Träningsdataset används för att träna modeller. Valideringsdataset används för att köra score eller RMSE och bestämma vilket modell som är bäst och sedan kombinera med träningsdataset och träna den bästa modellen på båda. Test dataset används bara för att utvärdera modellen på ny data när allt är klar."
   ]
  },
  {
   "cell_type": "markdown",
   "metadata": {},
   "source": [
    "2. Julia delar upp sin data i träning och test. På träningsdatan så tränar hon tre modeller; ”Linjär Regression”, ”Lasso regression” och en ”Random Forest modell”. Hur skall hon välja vilken av de tre modellerna hon skall fortsätta använda när hon inte skapat ett explicit ”validerings-dataset”?\n",
    "\n",
    "Julia kan använda cross validation av träningsdata. Det betyder att träningsdataset delas upp i flera subsets (folds), vanligt med K-Fold där K står för antalet folds. Modellen utvärderas på en av dessa folds, efter att den tränats på resten av folds. Processen upprepas med varje fold som används som valideringsset en gång. Då tar Julia en medelvärde av resultaten."
   ]
  },
  {
   "cell_type": "markdown",
   "metadata": {},
   "source": [
    "3. Vad är ”regressionsproblem\"? Kan du ge några exempel på modeller som används och potentiella tillämpningsområden? \n",
    "Regressionsproblem är ett problem inom maskininlärning där målet är att förutsäga en numerisk värde, i motsats till klassificeringsproblem som förutsäger en kategori av data. Det är som en funktion som tar flera indata variabler (features) och ger motsvarande kontinuerlig data som svaret (target). "
   ]
  },
  {
   "cell_type": "markdown",
   "metadata": {},
   "source": []
  }
 ],
 "metadata": {
  "language_info": {
   "name": "python"
  }
 },
 "nbformat": 4,
 "nbformat_minor": 2
}
